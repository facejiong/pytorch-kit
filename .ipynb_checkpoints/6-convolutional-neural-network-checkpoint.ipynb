{
 "cells": [
  {
   "cell_type": "markdown",
   "metadata": {},
   "source": [
    "cnn\n",
    "- 局部感知，每次卷积核覆盖一小部分像素，传统的神经网络是整体感知\n",
    "- 权重共享，CNN除全连接层外，卷积层的参数完全取决于滤波器的设置大小,相比传统的参数量小，计算量小，整个图片共享一组滤波器的参数\n",
    "- 多卷积核，卷积层会有多个卷积核，生成不同的特征"
   ]
  },
  {
   "cell_type": "code",
   "execution_count": 1,
   "metadata": {},
   "outputs": [],
   "source": [
    "import torch \n",
    "import torch.nn as nn\n",
    "import torchvision\n",
    "import torchvision.transforms as transforms\n",
    "\n",
    "# Device configuration\n",
    "device = torch.device('cuda:0' if torch.cuda.is_available() else 'cpu')"
   ]
  },
  {
   "cell_type": "code",
   "execution_count": 2,
   "metadata": {},
   "outputs": [],
   "source": [
    "# Hyper parameters\n",
    "num_epochs = 5\n",
    "num_classes = 10\n",
    "batch_size = 100\n",
    "learning_rate = 0.001"
   ]
  },
  {
   "cell_type": "code",
   "execution_count": 3,
   "metadata": {},
   "outputs": [],
   "source": [
    "# MNIST dataset\n",
    "train_dataset = torchvision.datasets.MNIST(root='../data/',\n",
    "                                           train=True, \n",
    "                                           transform=transforms.ToTensor(),\n",
    "                                           download=True)\n",
    "\n",
    "test_dataset = torchvision.datasets.MNIST(root='../data/',\n",
    "                                          train=False, \n",
    "                                          transform=transforms.ToTensor())\n",
    "\n",
    "# Data loader\n",
    "train_loader = torch.utils.data.DataLoader(dataset=train_dataset,\n",
    "                                           batch_size=batch_size, \n",
    "                                           shuffle=True)\n",
    "\n",
    "test_loader = torch.utils.data.DataLoader(dataset=test_dataset,\n",
    "                                          batch_size=batch_size, \n",
    "                                          shuffle=False)"
   ]
  },
  {
   "cell_type": "markdown",
   "metadata": {},
   "source": [
    "输入层：一般是二维向量\n",
    "\n",
    "卷积层：提取更高层次的特征，输入信号e(x)与滤波器函数h(x)进行卷积\n",
    "\n",
    "池化层：下采样，减小数据处理量同时保留有用信息。取每邻域四个像素中的最大值变为一个像素，模糊图像。卷积已经提取出特征，相邻区域的特征是类似，近乎不变，池化只是选出最能表征特征的像素，缩减了数据量，同时保留了特征。\n",
    "\n",
    "RELU层：激活函数\n",
    "\n",
    "全连通层：高级特征进行全连接\n",
    "\n",
    "输出层：结果预测，softmax\n",
    "\n",
    "dropout，正则化方法，解决过拟合，随机删神经元。"
   ]
  },
  {
   "cell_type": "code",
   "execution_count": 4,
   "metadata": {
    "scrolled": true
   },
   "outputs": [],
   "source": [
    "# Convolutional neural network (two convolutional layers)\n",
    "\n",
    "#  Conv2d padding:填充\n",
    "class ConvNet(nn.Module):\n",
    "    def __init__(self, num_classes=10):\n",
    "        super(ConvNet, self).__init__()\n",
    "        self.layer1 = nn.Sequential(\n",
    "            nn.Conv2d(1, 16, kernel_size=5, stride=1, padding=2),\n",
    "            nn.BatchNorm2d(16),\n",
    "            nn.ReLU(),\n",
    "            nn.MaxPool2d(kernel_size=2, stride=2),\n",
    "            nn.Dropout2d(p=0.2)\n",
    "        )\n",
    "        self.layer2 = nn.Sequential(\n",
    "            nn.Conv2d(16, 32, kernel_size=5, stride=1, padding=2),\n",
    "            nn.BatchNorm2d(32),\n",
    "            nn.ReLU(),\n",
    "            nn.MaxPool2d(kernel_size=2, stride=2),\n",
    "            nn.Dropout2d(p=0.2)\n",
    "        )\n",
    "        self.fc = nn.Linear(7*7*32, num_classes) # 全连接层\n",
    "        \n",
    "    def forward(self, x):\n",
    "        out = self.layer1(x)\n",
    "        out = self.layer2(out)\n",
    "        out = out.reshape(out.size(0), -1)\n",
    "        out = self.fc(out)\n",
    "        return out\n",
    "\n",
    "model = ConvNet(num_classes).to(device)\n",
    "\n",
    "# Loss and optimizer\n",
    "criterion = nn.CrossEntropyLoss()\n",
    "optimizer = torch.optim.Adam(model.parameters(), lr=learning_rate)"
   ]
  },
  {
   "cell_type": "code",
   "execution_count": 5,
   "metadata": {},
   "outputs": [
    {
     "name": "stdout",
     "output_type": "stream",
     "text": [
      "Epoch [1/5], Step [100/600], Loss: 0.2369\n",
      "Epoch [1/5], Step [200/600], Loss: 0.0960\n",
      "Epoch [1/5], Step [300/600], Loss: 0.1634\n",
      "Epoch [1/5], Step [400/600], Loss: 0.1529\n",
      "Epoch [1/5], Step [500/600], Loss: 0.0911\n",
      "Epoch [1/5], Step [600/600], Loss: 0.0986\n",
      "Epoch [2/5], Step [100/600], Loss: 0.0674\n",
      "Epoch [2/5], Step [200/600], Loss: 0.0655\n",
      "Epoch [2/5], Step [300/600], Loss: 0.1671\n",
      "Epoch [2/5], Step [400/600], Loss: 0.1219\n",
      "Epoch [2/5], Step [500/600], Loss: 0.1233\n",
      "Epoch [2/5], Step [600/600], Loss: 0.0306\n",
      "Epoch [3/5], Step [100/600], Loss: 0.0490\n",
      "Epoch [3/5], Step [200/600], Loss: 0.0070\n",
      "Epoch [3/5], Step [300/600], Loss: 0.1165\n",
      "Epoch [3/5], Step [400/600], Loss: 0.0278\n",
      "Epoch [3/5], Step [500/600], Loss: 0.0634\n",
      "Epoch [3/5], Step [600/600], Loss: 0.0416\n",
      "Epoch [4/5], Step [100/600], Loss: 0.0278\n",
      "Epoch [4/5], Step [200/600], Loss: 0.0479\n",
      "Epoch [4/5], Step [300/600], Loss: 0.0128\n",
      "Epoch [4/5], Step [400/600], Loss: 0.0625\n",
      "Epoch [4/5], Step [500/600], Loss: 0.0308\n",
      "Epoch [4/5], Step [600/600], Loss: 0.0137\n",
      "Epoch [5/5], Step [100/600], Loss: 0.0248\n",
      "Epoch [5/5], Step [200/600], Loss: 0.0803\n",
      "Epoch [5/5], Step [300/600], Loss: 0.0277\n",
      "Epoch [5/5], Step [400/600], Loss: 0.0200\n",
      "Epoch [5/5], Step [500/600], Loss: 0.0612\n",
      "Epoch [5/5], Step [600/600], Loss: 0.0073\n"
     ]
    }
   ],
   "source": [
    "# Train the model\n",
    "total_step = len(train_loader)\n",
    "for epoch in range(num_epochs):\n",
    "    for i, (images, labels) in enumerate(train_loader):\n",
    "        images = images.to(device)\n",
    "        labels = labels.to(device)\n",
    "        \n",
    "        # Forward pass\n",
    "        outputs = model(images)\n",
    "        loss = criterion(outputs, labels)\n",
    "        \n",
    "        # Backward and optimize\n",
    "        optimizer.zero_grad()\n",
    "        loss.backward()\n",
    "        optimizer.step()\n",
    "        \n",
    "        if (i+1) % 100 == 0:\n",
    "            print ('Epoch [{}/{}], Step [{}/{}], Loss: {:.4f}' \n",
    "                   .format(epoch+1, num_epochs, i+1, total_step, loss.item()))"
   ]
  },
  {
   "cell_type": "code",
   "execution_count": 6,
   "metadata": {},
   "outputs": [
    {
     "name": "stdout",
     "output_type": "stream",
     "text": [
      "Test Accuracy of the model on the 10000 test images: 99.01 %\n"
     ]
    }
   ],
   "source": [
    "# Test the model\n",
    "model.eval()  # eval mode (batchnorm uses moving mean/variance instead of mini-batch mean/variance)\n",
    "with torch.no_grad():\n",
    "    correct = 0\n",
    "    total = 0\n",
    "    for images, labels in test_loader:\n",
    "        images = images.to(device)\n",
    "        labels = labels.to(device)\n",
    "        outputs = model(images)\n",
    "        _, predicted = torch.max(outputs.data, 1)\n",
    "        total += labels.size(0)\n",
    "        correct += (predicted == labels).sum().item()\n",
    "\n",
    "    print('Test Accuracy of the model on the 10000 test images: {} %'.format(100 * correct / total))\n",
    "\n",
    "# Save the model checkpoint\n",
    "# torch.save(model.state_dict(), 'model.ckpt')"
   ]
  },
  {
   "cell_type": "code",
   "execution_count": null,
   "metadata": {},
   "outputs": [],
   "source": []
  }
 ],
 "metadata": {
  "kernelspec": {
   "display_name": "Python 3",
   "language": "python",
   "name": "python3"
  },
  "language_info": {
   "codemirror_mode": {
    "name": "ipython",
    "version": 3
   },
   "file_extension": ".py",
   "mimetype": "text/x-python",
   "name": "python",
   "nbconvert_exporter": "python",
   "pygments_lexer": "ipython3",
   "version": "3.6.3"
  }
 },
 "nbformat": 4,
 "nbformat_minor": 2
}
